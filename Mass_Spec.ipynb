{
 "cells": [
  {
   "cell_type": "code",
   "execution_count": 2,
   "id": "11c01862",
   "metadata": {},
   "outputs": [],
   "source": [
    "from collections import defaultdict"
   ]
  },
  {
   "cell_type": "code",
   "execution_count": 60,
   "id": "9d946486",
   "metadata": {},
   "outputs": [],
   "source": [
    "#defining variables\n",
    "amino_acids ={'G': 57.02, 'A': 71.04, 'S': 87.03, 'P': 97.05, 'V': 99.07 , \n",
    "              'T' : 101.5, 'C': 103.01 , 'I/L' : 113.08, 'N': 114.04,\n",
    "              'D':115.03, 'Q':128.06, 'K': 128.09, 'E':129.04, 'M': 131.04, \n",
    "              'H' : 137.06 , 'F': 147.07, 'R':156.10, 'Y':163.06,'W':186.08}\n",
    "peaks_list_1195 = [60.0,69.6,71.6,76.1,101.1,104.1,110.1,112.1,116,120,132.1,136.1,158.1,175.1,\n",
    "             181.1,185.1,203.1,226.1,229.1,243.0,260.1,276.1,288.2,298.1,333.2,346.2,357.2,\n",
    "              379.2,391.1,399.2,407.2, 416.3,424.2,441.2,488.2,498.2,513.3,535.2,530.3,542.3,\n",
    "              573.2,641.3,661.3,666.2, 683.2, 738.3, 780.3, 789.4, 844.4,904.3,908.3,936.5,993.5,\n",
    "             1001.3,1021.4,1062.4,1080.5,1082.5,1084.4,1111.4,1136.4, 1195.5]\n",
    "peaks_list_1283 = [60.0,70.1,102.1,107.1,120.1,130.1,136.1,175.1,181.1,187.1,193.1,238.1,305.1,299.2,322.2,350.1,\n",
    "                  362.1,393.2,415.2,433.2,450.2,471.2,485.2,513.2,525.2,551.3,570.2,597.3,645.3,693.6,705.3,714.4,733.3,762.3,771.4,816.3,834.3,\n",
    "                  891.4,934.4,962.4,993.4,1040.4,1097.5,1109.5, 1154.5, 1159.3, 1223.4,1283.6]\n",
    "peaks_list_1478 = [60.0, 72.1, 86.1, 102.1, 104.1, 112.1, 132.1, 175.1, 158.1, 156.1, 185.1, 221.1, 247.1, 249.2, 269.1, 271.2, 267.1, 288.2, 295.1, 314.2, 334.2, 350.1,\n",
    "                  352.1, 359.2, 374.2, 408.2, 424.1, 456.2, 460.3, 465.2, 513.2, 515.3, 559.4, 598.3, 600.3, 628.3, 614.3,\n",
    "                  722.4, 705.3, 757.3, 759.3, 761.3, 826.3, 851.4, 888.4, 920.4, 946.4, 998.4, 1014.5, 1019.5, 1054.5, 1071.5, 1120.4, 1184.6,\n",
    "                  1191.5, 1253.5, 1304.6, 1347.7, 1416.6, 1412.5]"
   ]
  },
  {
   "cell_type": "code",
   "execution_count": 4,
   "id": "c90a930e",
   "metadata": {},
   "outputs": [
    {
     "name": "stdout",
     "output_type": "stream",
     "text": [
      "{'G': 232.12, 'A': 246.14, 'S': 262.13, 'P': 272.15, 'V': 274.17, 'T': 276.6, 'C': 278.11, 'I/L': 288.18, 'N': 289.14, 'D': 290.13, 'Q': 303.16, 'K': 303.19, 'E': 304.14, 'M': 306.14, 'H': 312.16, 'F': 322.17, 'R': 331.2, 'Y': 338.16, 'W': 361.18}\n"
     ]
    }
   ],
   "source": [
    "#now matched_peak can be inputted to get the new dictionary of possibilities \n",
    "def y_ion(matched_peak):\n",
    "    potential_y_peaks_pos = {}\n",
    "    for aa, mw in amino_acids.items():\n",
    "        ion_pos = matched_peak + mw \n",
    "        potential_y_peaks_pos[aa] = round(ion_pos,2)\n",
    "    return(potential_y_peaks_pos)\n",
    "print(y_ion(175.1))\n",
    "seq_1 = y_ion(175.1)\n",
    "seq_1 = {key:round(value,0) for key, value in seq_1.items()}\n"
   ]
  },
  {
   "cell_type": "code",
   "execution_count": 63,
   "id": "202c5e1d",
   "metadata": {
    "scrolled": true
   },
   "outputs": [
    {
     "name": "stdout",
     "output_type": "stream",
     "text": [
      "{'G': 1241.56, 'A': 1255.58, 'S': 1271.57, 'P': 1281.59, 'V': 1283.61, 'T': 1286.04, 'C': 1287.55, 'I/L': 1297.62, 'N': 1298.58, 'D': 1299.57, 'Q': 1312.6, 'K': 1312.63, 'E': 1313.58, 'M': 1315.58, 'H': 1321.6, 'F': 1331.61, 'R': 1340.64, 'Y': 1347.6, 'W': 1370.62}\n"
     ]
    }
   ],
   "source": [
    "def b_ion(matched_peak):\n",
    "    potential_b_peaks_pos = {}\n",
    "    for aa, mw in amino_acids.items():\n",
    "        ion_pos = matched_peak + mw\n",
    "        potential_b_peaks_pos[aa] = round(ion_pos,2)\n",
    "    return(potential_b_peaks_pos)\n",
    "print(b_ion(1184.54))\n",
    "                "
   ]
  },
  {
   "cell_type": "code",
   "execution_count": 6,
   "id": "f1345b41",
   "metadata": {},
   "outputs": [
    {
     "name": "stdout",
     "output_type": "stream",
     "text": [
      "[{'I/L': 288.18}, {'C': 391.19, 'Q': 416.24, 'K': 416.27}, {'P': 513.32, 'N': 530.31}, {'M': 661.35}, {'Q': 789.41, 'K': 789.44}, {'D': 904.47, 'F': 936.51}, {'G': 993.53}, {'S': 1080.56}, {'D': 1195.59}]\n",
      "[['D'], ['S'], ['G'], ['D', 'F'], ['Q', 'K'], ['M'], ['P', 'N'], ['C', 'Q', 'K'], ['I/L'], ['R']]\n"
     ]
    }
   ],
   "source": [
    "def building_y_ion(matched_peak, peaks_list, molecular_ion):\n",
    "    all_potential_peaks = []  # List to store all potential peaks found in each iteration\n",
    "    found_peaks = set()  # Set to store peaks that have already been found\n",
    "    for i in range(9):\n",
    "        potential_peaks = {}\n",
    "        y_ion_values = y_ion(matched_peak) #call on y_ion function\n",
    "        y_ion_values = {key:round(value,2) for key,value in y_ion_values.items()}\n",
    "        for peak in peaks_list:  \n",
    "            for aa, mw in y_ion_values.items():\n",
    "                if mw not in found_peaks:  # Check if the peak has already been found\n",
    "                    if abs(mw - peak) <= 0.2:\n",
    "                        potential_peaks[aa] = mw\n",
    "                        found_peaks.add(mw)  # Add the peak to the set of found peaks   \n",
    "                        matched_peak = mw #redefine parameter for y_ion function\n",
    "        all_potential_peaks.append(potential_peaks)  # Add the new potential peaks to the list\n",
    "        # Update mw values with the newly found peaks for the next iteration\n",
    "        new_mw_values = {key: value + 1 for key, value in y_ion_values.items()}\n",
    "        y_ion_values = new_mw_values\n",
    "    return all_potential_peaks  # Return all potential peaks found in each iteration\n",
    "\n",
    "result_1 = building_y_ion(175.1, peaks_list_1195, 1195.5)\n",
    "print(result_1)\n",
    "sequence_y = []\n",
    "for dictionary in result_1:\n",
    "    keys = list(dictionary.keys())\n",
    "    sequence_y.append(keys)\n",
    "sequence_y = sequence_y[::-1]\n",
    "sequence_y.append(['R'])\n",
    "print(sequence_y)"
   ]
  },
  {
   "cell_type": "code",
   "execution_count": 66,
   "id": "2e5ae913",
   "metadata": {},
   "outputs": [
    {
     "name": "stdout",
     "output_type": "stream",
     "text": [
      "[['D'], ['D'], ['D'], ['D'], ['D'], ['D'], ['D'], ['S', 'I/L'], ['G', 'Q', 'K'], ['P', 'M', 'F', 'R'], ['M', 'R', 'P', 'Q', 'K', 'N'], ['Q', 'K', 'M', 'P'], ['P', 'N', 'Q', 'K'], ['Q', 'K', 'R', 'D', 'F'], ['I/L', 'G', 'P'], ['R'], ['R'], ['F', 'I/L'], ['A', 'T', 'F'], ['G', 'Q', 'K'], ['T'], ['Y'], ['G'], ['Y'], ['Y'], ['G'], ['E'], ['R'], ['F', 'I/L'], ['A', 'T', 'F'], ['G', 'Q', 'K'], ['T'], ['Y'], ['G'], ['Y'], ['Y'], ['G'], ['E'], ['R'], ['F', 'I/L'], ['A', 'T', 'F'], ['G', 'Q', 'K'], ['T'], ['Y'], ['G'], ['Y'], ['Y'], ['G'], ['E'], ['R'], ['F', 'I/L'], ['A', 'T', 'F'], ['G', 'Q', 'K'], ['T'], ['Y'], ['G'], ['Y'], ['Y'], ['G'], ['R']]\n"
     ]
    }
   ],
   "source": [
    "def building_ion(matched_peak, peaks_list, molecular_ion):\n",
    "    all_potential_peaks = []  # List to store all potential peaks found in each iteration # Set to store peaks that have already been found\n",
    "    mw_value = [matched_peak]\n",
    "    for i in range(11):\n",
    "        potential_peaks = {}\n",
    "        mw_value_copy = mw_value[:]\n",
    "        mw_value.clear()\n",
    "        for value in mw_value_copy:\n",
    "            y_ion_values = y_ion(value) #call on y_ion function\n",
    "            y_ion_values = {key:round(value,2) for key,value in y_ion_values.items()}\n",
    "            for peak in peaks_list:  \n",
    "                for aa, mw in y_ion_values.items():\n",
    "                    if abs(mw - peak) <= 0.5:\n",
    "                        if aa not in potential_peaks:\n",
    "                            potential_peaks[aa] = [mw]\n",
    "                        else: \n",
    "                            potential_peaks[aa].append(mw)\n",
    "                        mw_value.append(mw)\n",
    "        all_potential_peaks.append(potential_peaks)  # Add the new potential peaks to the list\n",
    "    return all_potential_peaks  # Return all potential peaks found in each iteration\n",
    "\n",
    "result_1 = building_y_ion(116, peaks_list_1195, 1195.5)\n",
    "\n",
    "\n",
    "def result_to_sequence(result):\n",
    "    sequence = []\n",
    "    for dictionary in result:\n",
    "        keys = list(dictionary.keys())\n",
    "        sequence.append(keys)\n",
    "    return(sequence)\n",
    "#change final value into Arginine or Lysine because it does not read it as +19 would need ot be added and i dont want to do that\n",
    "sequence_b[-1] = ['R']\n",
    "#Add first residue to list (since its inputted initially as matched_peak perameter)\n",
    "sequence_b.insert(0, ['D'])\n",
    "print(sequence_b)\n",
    "\n"
   ]
  },
  {
   "cell_type": "code",
   "execution_count": 52,
   "id": "4ba5aaaf",
   "metadata": {},
   "outputs": [],
   "source": [
    "def narrow_sequence(sequence_y, sequence_b):\n",
    "    narrowed_sequence = []\n",
    "    for sublist_y, sublist_b in zip(sequence_y, sequence_b):\n",
    "        common_sublist = [element for element in sublist_y if element in sublist_b]\n",
    "        narrowed_sequence.append(common_sublist)\n",
    "        return(narrowed_sequence)\n",
    "\n",
    "#have to determine from narrowed sequence which aa is possible\n",
    "#if there are 2 items in list do [i+1] - [i] (where i is index of list with >1) and whichever == to the mw of key i+1 is correct\n",
    "#problem when one infront also has 2 values --> take the one infront of that and work back (full proof cuz ends with R or L )\n",
    "#narrowed_sequence_reverse = narrowed_sequence[::-1]\n",
    "#for item in narrowed_sequence_reverse:\n",
    "    #if len(item) > 1:\n",
    "        #for aa in item:\n",
    "            "
   ]
  },
  {
   "cell_type": "code",
   "execution_count": 58,
   "id": "ecc36e10",
   "metadata": {},
   "outputs": [
    {
     "name": "stdout",
     "output_type": "stream",
     "text": [
      "[['E'], ['G'], ['Y'], ['Y'], ['G'], ['Y'], ['T'], ['G', 'Q', 'K'], ['A', 'T', 'F'], ['F', 'I/L'], ['R']]\n"
     ]
    }
   ],
   "source": [
    "result_2_y = building_ion(175.1, peaks_list_1283, 1283.6)\n",
    "result_2_y.insert(0, {'R' : 175.1})\n",
    "result_2_b = building_ion(130.04, peaks_list_1283, 1283.6)\n",
    "result_2_b.insert(0, {'E' : 130.1})\n",
    "result_2_b.append({'R': 175.1})\n",
    "result_2_b = result_2_b [::-1]\n",
    "sequence_2 = result_to_sequence(result_2_b)\n",
    "sequence_2 = sequence_2[::-1]\n",
    "print(sequence_2)"
   ]
  },
  {
   "cell_type": "code",
   "execution_count": 67,
   "id": "0e68ccb8",
   "metadata": {},
   "outputs": [
    {
     "name": "stdout",
     "output_type": "stream",
     "text": [
      "[{'I/L': [288.18]}, {'A': [359.22]}, {'P': [456.27], 'T': [460.72], 'R': [515.32]}, {'G': [513.29], 'C': [559.28], 'V': [559.79, 614.39], 'I/L': [628.4]}, {'S': [600.32], 'D': [628.32], 'T': [614.79], 'Y': [722.34, 722.85], 'E': [757.44], 'M': [759.44], 'F': [761.46]}, {'E': [757.36, 851.38, 851.89, 888.48], 'M': [759.36, 888.48], 'C': [825.86], 'Q': [850.91], 'K': [850.94], 'Y': [920.5]}, {'M': [888.4, 1019.52, 1019.52], 'Y': [920.42, 1014.44, 1014.0, 1014.95], 'E': [888.4], 'F': [998.45, 997.98, 998.01], 'V': [1019.57]}, {'M': [1019.44, 1019.44], 'V': [1019.49], 'W': [1184.53], 'G': [1071.46, 1055.0, 1071.02, 1071.97]}, {'Y': [1347.59], 'I/L': [1184.54, 1184.1, 1185.05], 'N': [1185.06]}, {'Y': [1347.6, 1348.12, 1348.11]}, {}]\n"
     ]
    }
   ],
   "source": [
    "result_3_y = building_ion(175.1, peaks_list_1478, 1478.8)\n",
    "print(result_3_y)\n",
    "result_3_b = building_ion(132.0, peaks_list_1478, 1478.8)"
   ]
  },
  {
   "cell_type": "markdown",
   "id": "d1f7b83a",
   "metadata": {},
   "source": [
    "# In Ideal World: insert picture and it gives sequence "
   ]
  }
 ],
 "metadata": {
  "kernelspec": {
   "display_name": "Python 3 (ipykernel)",
   "language": "python",
   "name": "python3"
  },
  "language_info": {
   "codemirror_mode": {
    "name": "ipython",
    "version": 3
   },
   "file_extension": ".py",
   "mimetype": "text/x-python",
   "name": "python",
   "nbconvert_exporter": "python",
   "pygments_lexer": "ipython3",
   "version": "3.9.13"
  }
 },
 "nbformat": 4,
 "nbformat_minor": 5
}
